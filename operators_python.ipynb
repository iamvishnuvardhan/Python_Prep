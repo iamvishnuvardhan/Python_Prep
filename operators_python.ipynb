{
 "cells": [
  {
   "cell_type": "code",
   "execution_count": 1,
   "metadata": {},
   "outputs": [
    {
     "name": "stdout",
     "output_type": "stream",
     "text": [
      "15\n",
      "-1\n",
      "56\n",
      "0.875\n"
     ]
    }
   ],
   "source": [
    "#ARITHMETIC OPERATOR\n",
    "\n",
    "a = 7\n",
    "b = 8\n",
    "c = a + b\n",
    "print(c)\n",
    "\n",
    "a = 7\n",
    "b = 8\n",
    "c = a - b\n",
    "print(c)\n",
    "\n",
    "a = 7\n",
    "b = 8\n",
    "c = a * b\n",
    "print(c)\n",
    "\n",
    "a = 7\n",
    "b = 8\n",
    "c = a / b\n",
    "print(c)"
   ]
  },
  {
   "cell_type": "code",
   "execution_count": 3,
   "metadata": {},
   "outputs": [
    {
     "name": "stdout",
     "output_type": "stream",
     "text": [
      "False\n",
      "True\n",
      "True\n",
      "False\n",
      "True\n",
      "False\n",
      "True\n",
      "False\n"
     ]
    }
   ],
   "source": [
    "#COMPARISON OPERATOR\n",
    "\n",
    "a = 7\n",
    "b = 8\n",
    "c = a > b\n",
    "print(c)\n",
    "\n",
    "a = 7\n",
    "b = 8\n",
    "c = a < b\n",
    "print(c)\n",
    "\n",
    "a = 7\n",
    "b = 7\n",
    "c = a == b\n",
    "print(c)\n",
    "\n",
    "a = 7\n",
    "b = 8\n",
    "c = a == b\n",
    "print(c)\n",
    "\n",
    "a = 7\n",
    "b = 8\n",
    "c = a != b\n",
    "print(c)\n",
    "\n",
    "a = 8\n",
    "b = 8\n",
    "c = a != b\n",
    "print(c)\n",
    "\n",
    "a = 8\n",
    "b = 7\n",
    "c = a > b\n",
    "print(c)\n",
    "\n",
    "a = 8\n",
    "b = 7\n",
    "c = a < b\n",
    "print(c)"
   ]
  },
  {
   "cell_type": "code",
   "execution_count": null,
   "metadata": {},
   "outputs": [],
   "source": [
    "#LOGICAL OPERATOR\n",
    "\n",
    "#and , or, not"
   ]
  }
 ],
 "metadata": {
  "kernelspec": {
   "display_name": "Python 3",
   "language": "python",
   "name": "python3"
  },
  "language_info": {
   "codemirror_mode": {
    "name": "ipython",
    "version": 3
   },
   "file_extension": ".py",
   "mimetype": "text/x-python",
   "name": "python",
   "nbconvert_exporter": "python",
   "pygments_lexer": "ipython3",
   "version": "3.12.1"
  }
 },
 "nbformat": 4,
 "nbformat_minor": 2
}
