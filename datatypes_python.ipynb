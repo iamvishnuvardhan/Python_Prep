{
 "cells": [
  {
   "cell_type": "code",
   "execution_count": 2,
   "metadata": {},
   "outputs": [
    {
     "name": "stdout",
     "output_type": "stream",
     "text": [
      "None\n",
      "Hello World\n",
      "20\n",
      "20.5\n",
      "1j\n",
      "['apple', 'banana', 'cherry']\n",
      "('apple', 'banana', 'cherry')\n",
      "range(0, 6)\n",
      "{'name': 'John', 'age': 36}\n",
      "{'cherry', 'apple', 'banana'}\n",
      "frozenset({'cherry', 'apple', 'banana'})\n",
      "True\n",
      "b'Hello'\n",
      "bytearray(b'\\x00\\x00\\x00\\x00\\x00')\n",
      "<memory at 0x000001F5D69219C0>\n"
     ]
    }
   ],
   "source": [
    "A = \"Hello World\"\t\t\n",
    "b = 20\t\n",
    "c = 20.5\t\t\n",
    "d = 1j\t\t\n",
    "e = [\"apple\", \"banana\", \"cherry\"]\t\n",
    "f = (\"apple\", \"banana\", \"cherry\")\t\n",
    "g = range(6)\t\n",
    "h = {\"name\" : \"John\", \"age\" : 36}\t\t\n",
    "i = {\"apple\", \"banana\", \"cherry\"}\n",
    "j = frozenset({\"apple\", \"banana\", \"cherry\"})\t\t\n",
    "k = True\t\t\n",
    "l = b\"Hello\"\t\t\n",
    "m = bytearray(5)\t\t\n",
    "n = memoryview(bytes(5))\t\t\n",
    "x = None\n",
    "\n",
    "print(x)\n",
    "print(A)\n",
    "print(b)\n",
    "print(c)\n",
    "print(d)\n",
    "print(e)\n",
    "print(f)\n",
    "print(g)\n",
    "print(h)\n",
    "print(i)\n",
    "print(j)\n",
    "print(k)\n",
    "print(l)\n",
    "print(m)\n",
    "print(n)"
   ]
  },
  {
   "cell_type": "code",
   "execution_count": null,
   "metadata": {},
   "outputs": [],
   "source": [
    "x = \"Hello World\"\t                                             #str\t\n",
    "x = 20                              \t                         #int\t\n",
    "x = 20.5\t                                                     #float\t\n",
    "x = 1j\t                                                         #complex\t\n",
    "x = [\"apple\", \"banana\", \"cherry\"]\t                             #list\t\n",
    "x = (\"apple\", \"banana\", \"cherry\")                              \t #tuple\t\n",
    "x = range(6)\t                                                 #range\t\n",
    "x = {\"name\" : \"John\", \"age\" : 36}\t                             #dict\t\n",
    "x = {\"apple\", \"banana\", \"cherry\"}\t                             #set\t\n",
    "x = frozenset({\"apple\", \"banana\", \"cherry\"})\t                 #frozenset\t\n",
    "x = True\t                                                     #bool\t\n",
    "x = b\"Hello\"\t                                                 #bytes\t\n",
    "x = bytearray(5)\t                                             #bytearray\t\n",
    "x = memoryview(bytes(5))\t                                     #memoryview\t\n",
    "x = None\t                                                     #NoneType"
   ]
  }
 ],
 "metadata": {
  "kernelspec": {
   "display_name": "Python 3",
   "language": "python",
   "name": "python3"
  },
  "language_info": {
   "codemirror_mode": {
    "name": "ipython",
    "version": 3
   },
   "file_extension": ".py",
   "mimetype": "text/x-python",
   "name": "python",
   "nbconvert_exporter": "python",
   "pygments_lexer": "ipython3",
   "version": "3.12.1"
  }
 },
 "nbformat": 4,
 "nbformat_minor": 2
}
